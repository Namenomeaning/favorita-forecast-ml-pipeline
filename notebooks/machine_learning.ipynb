{
 "cells": [
  {
   "cell_type": "markdown",
   "id": "a2f5eb18",
   "metadata": {},
   "source": [
    "## Import"
   ]
  },
  {
   "cell_type": "code",
   "execution_count": 1,
   "id": "3eeec24f",
   "metadata": {},
   "outputs": [],
   "source": [
    "import pandas as pd\n",
    "import matplotlib.pyplot as plt\n",
    "from autogluon.timeseries import TimeSeriesDataFrame, TimeSeriesPredictor\n"
   ]
  },
  {
   "cell_type": "markdown",
   "id": "bfa3adc1",
   "metadata": {},
   "source": [
    "## Read data"
   ]
  },
  {
   "cell_type": "code",
   "execution_count": 4,
   "id": "57fa3517",
   "metadata": {},
   "outputs": [],
   "source": [
    "df = pd.read_parquet(\"../data/featured/train_featured.parquet\")"
   ]
  },
  {
   "cell_type": "markdown",
   "id": "ce49888c",
   "metadata": {},
   "source": [
    "## Train/Test split"
   ]
  },
  {
   "cell_type": "code",
   "execution_count": 5,
   "id": "8c80982d",
   "metadata": {},
   "outputs": [
    {
     "name": "stdout",
     "output_type": "stream",
     "text": [
      "Cutoff for train/test split: 2017-07-31 (last 15 days held out)\n"
     ]
    }
   ],
   "source": [
    "# 2) Define forecast horizon\n",
    "prediction_length = 15\n",
    "\n",
    "# 3) Compute global cutoff date\n",
    "max_date = df[\"timestamp\"].max()\n",
    "cutoff   = max_date - pd.Timedelta(days=prediction_length)\n",
    "print(f\"Cutoff for train/test split: {cutoff.date()} (last {prediction_length} days held out)\")"
   ]
  },
  {
   "cell_type": "code",
   "execution_count": 6,
   "id": "7245d857",
   "metadata": {},
   "outputs": [],
   "source": [
    "train_df = df[df[\"timestamp\"] <= cutoff].copy()\n",
    "test_df  = df[df[\"timestamp\"] >  cutoff].copy()"
   ]
  },
  {
   "cell_type": "markdown",
   "id": "0147535b",
   "metadata": {},
   "source": [
    "## Create TimeSeriesDF"
   ]
  },
  {
   "cell_type": "code",
   "execution_count": 7,
   "id": "a4d2ad29",
   "metadata": {},
   "outputs": [],
   "source": [
    "ts_df = TimeSeriesDataFrame.from_data_frame(\n",
    "    df,\n",
    "    id_column=\"item_id\",\n",
    "    timestamp_column=\"timestamp\"\n",
    ")"
   ]
  },
  {
   "cell_type": "code",
   "execution_count": 8,
   "id": "d5f42131",
   "metadata": {},
   "outputs": [],
   "source": [
    "ts_train = TimeSeriesDataFrame.from_data_frame(\n",
    "    train_df,\n",
    "    id_column=\"item_id\",\n",
    "    timestamp_column=\"timestamp\",\n",
    ")\n",
    "ts_test = TimeSeriesDataFrame.from_data_frame(\n",
    "    test_df,\n",
    "    id_column=\"item_id\",\n",
    "    timestamp_column=\"timestamp\",\n",
    ")"
   ]
  },
  {
   "cell_type": "markdown",
   "id": "034a8442",
   "metadata": {},
   "source": [
    "## Train"
   ]
  },
  {
   "cell_type": "code",
   "execution_count": null,
   "id": "bd057805",
   "metadata": {},
   "outputs": [
    {
     "name": "stderr",
     "output_type": "stream",
     "text": [
      "Beginning AutoGluon training... Time limit = 300s\n",
      "AutoGluon will save models to '/opt/work/favorita-forecast/notebooks/AutogluonModels/ag-20250728_080707'\n",
      "=================== System Info ===================\n",
      "AutoGluon Version:  1.3.1\n",
      "Python Version:     3.11.12\n",
      "Operating System:   Linux\n",
      "Platform Machine:   x86_64\n",
      "Platform Version:   #1 SMP Tue Nov 5 00:21:55 UTC 2024\n",
      "CPU Count:          16\n",
      "GPU Count:          1\n",
      "Memory Avail:       0.87 GB / 15.22 GB (5.7%)\n",
      "Disk Space Avail:   924.75 GB / 1006.85 GB (91.8%)\n",
      "===================================================\n",
      "\n",
      "Fitting with arguments:\n",
      "{'enable_ensemble': False,\n",
      " 'eval_metric': MASE,\n",
      " 'freq': 'D',\n",
      " 'hyperparameters': {'Chronos': [{'ag_args': {'name_suffix': ''},\n",
      "                                  'model_path': 'bolt_small'}]},\n",
      " 'known_covariates_names': [],\n",
      " 'num_val_windows': 1,\n",
      " 'prediction_length': 15,\n",
      " 'quantile_levels': [0.1, 0.2, 0.3, 0.4, 0.5, 0.6, 0.7, 0.8, 0.9],\n",
      " 'random_seed': 123,\n",
      " 'refit_every_n_windows': 1,\n",
      " 'refit_full': False,\n",
      " 'skip_model_selection': False,\n",
      " 'target': 'sales',\n",
      " 'time_limit': 300,\n",
      " 'verbosity': 2}\n",
      "\n",
      "train_data with frequency 'IRREG' has been resampled to frequency 'D'.\n",
      "Provided train_data has 2679152 rows (NaN fraction=0.2%), 1729 time series. Median time series length is 1673 (min=103, max=1673). \n",
      "\n",
      "Provided data contains following columns:\n",
      "\ttarget: 'sales'\n",
      "\tpast_covariates:\n",
      "\t\tcategorical:        ['family', 'city', 'state', 'type', 'holiday_national', 'holiday_regional', ...]\n",
      "\t\tcontinuous (float): ['id', 'store_nbr', 'onpromotion', 'month', 'day_of_month', 'day_of_year', ...]\n",
      "\n",
      "To learn how to fix incorrectly inferred types, please see documentation for TimeSeriesPredictor.fit\n",
      "\n",
      "AutoGluon will gauge predictive performance using evaluation metric: 'MASE'\n",
      "\tThis metric's sign has been flipped to adhere to being higher_is_better. The metric score can be multiplied by -1 to get the metric value.\n",
      "===================================================\n",
      "\n",
      "Starting training. Start time is 2025-07-28 15:08:21\n",
      "Models that will be trained: ['Chronos[bolt_small]']\n",
      "Training timeseries model Chronos[bolt_small]. Training for up to 265.9s of the 265.9s of remaining time.\n",
      "\t-0.9133       = Validation score (-MASE)\n",
      "\t5.83    s     = Training runtime\n",
      "\t6.00    s     = Validation (prediction) runtime\n",
      "Training complete. Models trained: ['Chronos[bolt_small]']\n",
      "Total runtime: 12.59 s\n",
      "Best model: Chronos[bolt_small]\n",
      "Best model score: -0.9133\n"
     ]
    }
   ],
   "source": [
    "predictor = TimeSeriesPredictor(\n",
    "    target=\"sales\",\n",
    "    prediction_length=prediction_length,\n",
    "    eval_metric=\"MASE\",\n",
    "    freq=\"D\",\n",
    "    path =\"../models/bolt_small\",\n",
    ").fit(\n",
    "    train_data=ts_train,\n",
    "    hyperparameters={\n",
    "        \"Chronos\": [\n",
    "            {\"model_path\": \"bolt_small\", \"ag_args\": {\"name_suffix\": \"\"}},\n",
    "        ]\n",
    "    },\n",
    "    time_limit=300,\n",
    "    enable_ensemble=False,\n",
    ")"
   ]
  },
  {
   "cell_type": "markdown",
   "id": "9a32b2e1",
   "metadata": {},
   "source": [
    "## Predict"
   ]
  },
  {
   "cell_type": "code",
   "execution_count": 10,
   "id": "4d8e25ec",
   "metadata": {},
   "outputs": [
    {
     "name": "stderr",
     "output_type": "stream",
     "text": [
      "data with frequency 'IRREG' has been resampled to frequency 'D'.\n",
      "Model not specified in predict, will default to the model with the best validation score: Chronos[bolt_small]\n"
     ]
    }
   ],
   "source": [
    "forecast_ts = predictor.predict(ts_train)  "
   ]
  },
  {
   "cell_type": "markdown",
   "id": "1759a68b",
   "metadata": {},
   "source": [
    "## Visualize"
   ]
  },
  {
   "cell_type": "code",
   "execution_count": 11,
   "id": "91f1cafa",
   "metadata": {},
   "outputs": [],
   "source": [
    "obs_train_df = ts_train.to_data_frame().reset_index()   \n",
    "obs_test_df  = ts_test .to_data_frame().reset_index()\n",
    "pred_df      = forecast_ts.to_data_frame().reset_index()"
   ]
  },
  {
   "cell_type": "code",
   "execution_count": 13,
   "id": "3d5bbeaf",
   "metadata": {},
   "outputs": [
    {
     "name": "stdout",
     "output_type": "stream",
     "text": [
      "Saved 1729 plots into ../visualization/all_series_forecasts.pdf\n"
     ]
    }
   ],
   "source": [
    "import os\n",
    "import pandas as pd\n",
    "import matplotlib.pyplot as plt\n",
    "from matplotlib.backends.backend_pdf import PdfPages\n",
    "\n",
    "# Path to the single PDF\n",
    "out_pdf = \"../visualization/all_series_forecasts.pdf\"\n",
    "# Ensure output dir exists if you want it in a subfolder:\n",
    "last_date    = max(test_df[\"timestamp\"].max(), pred_df[\"timestamp\"].max())\n",
    "window_start = last_date - pd.Timedelta(days=200)\n",
    "with PdfPages(out_pdf) as pdf:\n",
    "    count = 0\n",
    "    for series_id in pred_df[\"item_id\"].unique():\n",
    "        # 1) Slice each DF for this series and the last 200 days\n",
    "        df_tr = (train_df[(train_df[\"item_id\"] == series_id) &\n",
    "                          (train_df[\"timestamp\"] >= window_start)]\n",
    "                 .sort_values(\"timestamp\"))\n",
    "        df_te = (test_df [(test_df [\"item_id\"] == series_id) &\n",
    "                          (test_df [\"timestamp\"] >= window_start)]\n",
    "                 .sort_values(\"timestamp\"))\n",
    "        df_pr = (pred_df [(pred_df [\"item_id\"] == series_id) &\n",
    "                          (pred_df [\"timestamp\"] >= window_start)]\n",
    "                 .sort_values(\"timestamp\"))\n",
    "        if df_pr.empty:\n",
    "            continue  # no forecast, skip\n",
    "\n",
    "        # 2) Make the figure\n",
    "        fig, ax = plt.subplots(figsize=(8, 3))\n",
    "        ax.plot(df_tr[\"timestamp\"], df_tr[\"sales\"], label=\"Train\")\n",
    "        ax.plot(df_te[\"timestamp\"], df_te[\"sales\"], label=\"Test\")\n",
    "        ax.plot(df_pr[\"timestamp\"], df_pr[\"mean\"], linestyle=\"--\", label=\"Forecast\")\n",
    "\n",
    "        # optional: quantile ribbon\n",
    "        if {\"0.1\", \"0.9\"}.issubset(df_pr.columns):\n",
    "            ax.fill_between(df_pr[\"timestamp\"],\n",
    "                            df_pr[\"0.1\"], df_pr[\"0.9\"],\n",
    "                            color=\"gray\", alpha=0.3)\n",
    "\n",
    "        # vertical line at forecast start\n",
    "        if not df_tr.empty:\n",
    "            ax.axvline(df_tr[\"timestamp\"].max(), color=\"black\", linestyle=\":\")\n",
    "\n",
    "        ax.set_title(series_id)\n",
    "        ax.set_xlabel(\"Date\")\n",
    "        ax.set_ylabel(\"Sales\")\n",
    "        ax.legend(loc=\"upper left\", fontsize=\"small\")\n",
    "        plt.tight_layout()\n",
    "\n",
    "        # 3) Save this page to the PDF\n",
    "        pdf.savefig(fig)\n",
    "        plt.close(fig)\n",
    "        count += 1\n",
    "\n",
    "print(f\"Saved {count} plots into {out_pdf}\")\n"
   ]
  }
 ],
 "metadata": {
  "kernelspec": {
   "display_name": "favorita-forecast",
   "language": "python",
   "name": "python3"
  },
  "language_info": {
   "codemirror_mode": {
    "name": "ipython",
    "version": 3
   },
   "file_extension": ".py",
   "mimetype": "text/x-python",
   "name": "python",
   "nbconvert_exporter": "python",
   "pygments_lexer": "ipython3",
   "version": "3.11.12"
  }
 },
 "nbformat": 4,
 "nbformat_minor": 5
}
